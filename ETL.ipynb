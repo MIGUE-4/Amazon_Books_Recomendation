{
 "cells": [
  {
   "cell_type": "code",
   "execution_count": 2,
   "metadata": {},
   "outputs": [],
   "source": [
    "import pandas as pd\n",
    "import re"
   ]
  },
  {
   "cell_type": "code",
   "execution_count": 3,
   "metadata": {},
   "outputs": [],
   "source": [
    "data_books = pd.read_csv(r\"C:\\Users\\MSI\\Documents\\Proyectos\\Datasets\\Amazon_Books_Scraping\\Books_df.csv\", index_col=0)\n",
    "data_genres = pd.read_csv(r\"C:\\Users\\MSI\\Documents\\Proyectos\\Datasets\\Amazon_Books_Scraping\\Genre_df.csv\")\n",
    "data_sub = pd.read_csv(r\"C:\\Users\\MSI\\Documents\\Proyectos\\Datasets\\Amazon_Books_Scraping\\Sub_Genre_df.csv\")"
   ]
  },
  {
   "cell_type": "code",
   "execution_count": 4,
   "metadata": {},
   "outputs": [
    {
     "data": {
      "text/html": [
       "<div>\n",
       "<style scoped>\n",
       "    .dataframe tbody tr th:only-of-type {\n",
       "        vertical-align: middle;\n",
       "    }\n",
       "\n",
       "    .dataframe tbody tr th {\n",
       "        vertical-align: top;\n",
       "    }\n",
       "\n",
       "    .dataframe thead th {\n",
       "        text-align: right;\n",
       "    }\n",
       "</style>\n",
       "<table border=\"1\" class=\"dataframe\">\n",
       "  <thead>\n",
       "    <tr style=\"text-align: right;\">\n",
       "      <th></th>\n",
       "      <th>Title</th>\n",
       "      <th>Author</th>\n",
       "      <th>Main Genre</th>\n",
       "      <th>Sub Genre</th>\n",
       "      <th>Type</th>\n",
       "      <th>Price</th>\n",
       "      <th>Rating</th>\n",
       "      <th>No. of People rated</th>\n",
       "      <th>URLs</th>\n",
       "    </tr>\n",
       "  </thead>\n",
       "  <tbody>\n",
       "    <tr>\n",
       "      <th>0</th>\n",
       "      <td>The Complete Novel of Sherlock Holmes</td>\n",
       "      <td>Arthur Conan Doyle</td>\n",
       "      <td>Arts, Film &amp; Photography</td>\n",
       "      <td>Cinema &amp; Broadcast</td>\n",
       "      <td>Paperback</td>\n",
       "      <td>₹169.00</td>\n",
       "      <td>4.4</td>\n",
       "      <td>19923.0</td>\n",
       "      <td>https://www.amazon.in/Complete-Novels-Sherlock...</td>\n",
       "    </tr>\n",
       "    <tr>\n",
       "      <th>1</th>\n",
       "      <td>Black Holes (L) : The Reith Lectures [Paperbac...</td>\n",
       "      <td>Stephen Hawking</td>\n",
       "      <td>Arts, Film &amp; Photography</td>\n",
       "      <td>Cinema &amp; Broadcast</td>\n",
       "      <td>Paperback</td>\n",
       "      <td>₹99.00</td>\n",
       "      <td>4.5</td>\n",
       "      <td>7686.0</td>\n",
       "      <td>https://www.amazon.in/Black-Holes-Lectures-Ste...</td>\n",
       "    </tr>\n",
       "    <tr>\n",
       "      <th>2</th>\n",
       "      <td>The Kite Runner</td>\n",
       "      <td>Khaled Hosseini</td>\n",
       "      <td>Arts, Film &amp; Photography</td>\n",
       "      <td>Cinema &amp; Broadcast</td>\n",
       "      <td>Kindle Edition</td>\n",
       "      <td>₹175.75</td>\n",
       "      <td>4.6</td>\n",
       "      <td>50016.0</td>\n",
       "      <td>https://www.amazon.in/Kite-Runner-Khaled-Hosse...</td>\n",
       "    </tr>\n",
       "    <tr>\n",
       "      <th>3</th>\n",
       "      <td>Greenlights: Raucous stories and outlaw wisdom...</td>\n",
       "      <td>Matthew McConaughey</td>\n",
       "      <td>Arts, Film &amp; Photography</td>\n",
       "      <td>Cinema &amp; Broadcast</td>\n",
       "      <td>Paperback</td>\n",
       "      <td>₹389.00</td>\n",
       "      <td>4.6</td>\n",
       "      <td>32040.0</td>\n",
       "      <td>https://www.amazon.in/Greenlights-Raucous-stor...</td>\n",
       "    </tr>\n",
       "    <tr>\n",
       "      <th>4</th>\n",
       "      <td>The Science of Storytelling: Why Stories Make ...</td>\n",
       "      <td>Will Storr</td>\n",
       "      <td>Arts, Film &amp; Photography</td>\n",
       "      <td>Cinema &amp; Broadcast</td>\n",
       "      <td>Paperback</td>\n",
       "      <td>₹348.16</td>\n",
       "      <td>4.5</td>\n",
       "      <td>1707.0</td>\n",
       "      <td>https://www.amazon.in/Science-Storytelling-Wil...</td>\n",
       "    </tr>\n",
       "  </tbody>\n",
       "</table>\n",
       "</div>"
      ],
      "text/plain": [
       "                                               Title               Author  \\\n",
       "0              The Complete Novel of Sherlock Holmes   Arthur Conan Doyle   \n",
       "1  Black Holes (L) : The Reith Lectures [Paperbac...      Stephen Hawking   \n",
       "2                                    The Kite Runner      Khaled Hosseini   \n",
       "3  Greenlights: Raucous stories and outlaw wisdom...  Matthew McConaughey   \n",
       "4  The Science of Storytelling: Why Stories Make ...           Will Storr   \n",
       "\n",
       "                 Main Genre           Sub Genre            Type    Price  \\\n",
       "0  Arts, Film & Photography  Cinema & Broadcast       Paperback  ₹169.00   \n",
       "1  Arts, Film & Photography  Cinema & Broadcast       Paperback   ₹99.00   \n",
       "2  Arts, Film & Photography  Cinema & Broadcast  Kindle Edition  ₹175.75   \n",
       "3  Arts, Film & Photography  Cinema & Broadcast       Paperback  ₹389.00   \n",
       "4  Arts, Film & Photography  Cinema & Broadcast       Paperback  ₹348.16   \n",
       "\n",
       "   Rating  No. of People rated  \\\n",
       "0     4.4              19923.0   \n",
       "1     4.5               7686.0   \n",
       "2     4.6              50016.0   \n",
       "3     4.6              32040.0   \n",
       "4     4.5               1707.0   \n",
       "\n",
       "                                                URLs  \n",
       "0  https://www.amazon.in/Complete-Novels-Sherlock...  \n",
       "1  https://www.amazon.in/Black-Holes-Lectures-Ste...  \n",
       "2  https://www.amazon.in/Kite-Runner-Khaled-Hosse...  \n",
       "3  https://www.amazon.in/Greenlights-Raucous-stor...  \n",
       "4  https://www.amazon.in/Science-Storytelling-Wil...  "
      ]
     },
     "execution_count": 4,
     "metadata": {},
     "output_type": "execute_result"
    }
   ],
   "source": [
    "data_books.head()"
   ]
  },
  {
   "cell_type": "code",
   "execution_count": 5,
   "metadata": {},
   "outputs": [],
   "source": [
    "data_books.drop(columns='URLs', inplace=True)"
   ]
  },
  {
   "cell_type": "code",
   "execution_count": 6,
   "metadata": {},
   "outputs": [
    {
     "name": "stdout",
     "output_type": "stream",
     "text": [
      "<class 'pandas.core.frame.DataFrame'>\n",
      "Index: 7928 entries, 0 to 7927\n",
      "Data columns (total 8 columns):\n",
      " #   Column               Non-Null Count  Dtype  \n",
      "---  ------               --------------  -----  \n",
      " 0   Title                7928 non-null   object \n",
      " 1   Author               7907 non-null   object \n",
      " 2   Main Genre           7928 non-null   object \n",
      " 3   Sub Genre            7928 non-null   object \n",
      " 4   Type                 7928 non-null   object \n",
      " 5   Price                7928 non-null   object \n",
      " 6   Rating               7928 non-null   float64\n",
      " 7   No. of People rated  7928 non-null   float64\n",
      "dtypes: float64(2), object(6)\n",
      "memory usage: 557.4+ KB\n"
     ]
    }
   ],
   "source": [
    "data_books.info()"
   ]
  },
  {
   "cell_type": "code",
   "execution_count": 7,
   "metadata": {},
   "outputs": [],
   "source": [
    "def digits(num):\n",
    "    return  re.sub(r'\\D', '',num)"
   ]
  },
  {
   "cell_type": "code",
   "execution_count": 8,
   "metadata": {},
   "outputs": [],
   "source": [
    "data_books['Price'] = data_books['Price'].apply(digits)"
   ]
  },
  {
   "cell_type": "code",
   "execution_count": 9,
   "metadata": {},
   "outputs": [],
   "source": [
    "data_books['Price'] = data_books['Price'].astype('float')"
   ]
  },
  {
   "cell_type": "code",
   "execution_count": 10,
   "metadata": {},
   "outputs": [],
   "source": [
    "data_books =data_books.map(lambda x: x.lower() if isinstance(x, str) else x)"
   ]
  },
  {
   "cell_type": "code",
   "execution_count": 11,
   "metadata": {},
   "outputs": [],
   "source": [
    "data_books['Sub Genre'] = data_books['Sub Genre'].str.replace('&',',').str.strip()"
   ]
  },
  {
   "cell_type": "code",
   "execution_count": 12,
   "metadata": {},
   "outputs": [],
   "source": [
    "data_books['Main Genre'] = data_books['Main Genre'].str.replace('&',',')"
   ]
  },
  {
   "cell_type": "code",
   "execution_count": 13,
   "metadata": {},
   "outputs": [
    {
     "data": {
      "text/html": [
       "<div>\n",
       "<style scoped>\n",
       "    .dataframe tbody tr th:only-of-type {\n",
       "        vertical-align: middle;\n",
       "    }\n",
       "\n",
       "    .dataframe tbody tr th {\n",
       "        vertical-align: top;\n",
       "    }\n",
       "\n",
       "    .dataframe thead th {\n",
       "        text-align: right;\n",
       "    }\n",
       "</style>\n",
       "<table border=\"1\" class=\"dataframe\">\n",
       "  <thead>\n",
       "    <tr style=\"text-align: right;\">\n",
       "      <th></th>\n",
       "      <th>Title</th>\n",
       "      <th>Author</th>\n",
       "      <th>Main Genre</th>\n",
       "      <th>Sub Genre</th>\n",
       "      <th>Type</th>\n",
       "      <th>Price</th>\n",
       "      <th>Rating</th>\n",
       "      <th>No. of People rated</th>\n",
       "    </tr>\n",
       "  </thead>\n",
       "  <tbody>\n",
       "    <tr>\n",
       "      <th>0</th>\n",
       "      <td>the complete novel of sherlock holmes</td>\n",
       "      <td>arthur conan doyle</td>\n",
       "      <td>arts, film , photography</td>\n",
       "      <td>cinema , broadcast</td>\n",
       "      <td>paperback</td>\n",
       "      <td>16900.0</td>\n",
       "      <td>4.4</td>\n",
       "      <td>19923.0</td>\n",
       "    </tr>\n",
       "    <tr>\n",
       "      <th>1</th>\n",
       "      <td>black holes (l) : the reith lectures [paperbac...</td>\n",
       "      <td>stephen hawking</td>\n",
       "      <td>arts, film , photography</td>\n",
       "      <td>cinema , broadcast</td>\n",
       "      <td>paperback</td>\n",
       "      <td>9900.0</td>\n",
       "      <td>4.5</td>\n",
       "      <td>7686.0</td>\n",
       "    </tr>\n",
       "    <tr>\n",
       "      <th>2</th>\n",
       "      <td>the kite runner</td>\n",
       "      <td>khaled hosseini</td>\n",
       "      <td>arts, film , photography</td>\n",
       "      <td>cinema , broadcast</td>\n",
       "      <td>kindle edition</td>\n",
       "      <td>17575.0</td>\n",
       "      <td>4.6</td>\n",
       "      <td>50016.0</td>\n",
       "    </tr>\n",
       "    <tr>\n",
       "      <th>3</th>\n",
       "      <td>greenlights: raucous stories and outlaw wisdom...</td>\n",
       "      <td>matthew mcconaughey</td>\n",
       "      <td>arts, film , photography</td>\n",
       "      <td>cinema , broadcast</td>\n",
       "      <td>paperback</td>\n",
       "      <td>38900.0</td>\n",
       "      <td>4.6</td>\n",
       "      <td>32040.0</td>\n",
       "    </tr>\n",
       "    <tr>\n",
       "      <th>4</th>\n",
       "      <td>the science of storytelling: why stories make ...</td>\n",
       "      <td>will storr</td>\n",
       "      <td>arts, film , photography</td>\n",
       "      <td>cinema , broadcast</td>\n",
       "      <td>paperback</td>\n",
       "      <td>34816.0</td>\n",
       "      <td>4.5</td>\n",
       "      <td>1707.0</td>\n",
       "    </tr>\n",
       "  </tbody>\n",
       "</table>\n",
       "</div>"
      ],
      "text/plain": [
       "                                               Title               Author  \\\n",
       "0              the complete novel of sherlock holmes   arthur conan doyle   \n",
       "1  black holes (l) : the reith lectures [paperbac...      stephen hawking   \n",
       "2                                    the kite runner      khaled hosseini   \n",
       "3  greenlights: raucous stories and outlaw wisdom...  matthew mcconaughey   \n",
       "4  the science of storytelling: why stories make ...           will storr   \n",
       "\n",
       "                 Main Genre           Sub Genre            Type    Price  \\\n",
       "0  arts, film , photography  cinema , broadcast       paperback  16900.0   \n",
       "1  arts, film , photography  cinema , broadcast       paperback   9900.0   \n",
       "2  arts, film , photography  cinema , broadcast  kindle edition  17575.0   \n",
       "3  arts, film , photography  cinema , broadcast       paperback  38900.0   \n",
       "4  arts, film , photography  cinema , broadcast       paperback  34816.0   \n",
       "\n",
       "   Rating  No. of People rated  \n",
       "0     4.4              19923.0  \n",
       "1     4.5               7686.0  \n",
       "2     4.6              50016.0  \n",
       "3     4.6              32040.0  \n",
       "4     4.5               1707.0  "
      ]
     },
     "execution_count": 13,
     "metadata": {},
     "output_type": "execute_result"
    }
   ],
   "source": [
    "data_books.head()"
   ]
  },
  {
   "cell_type": "code",
   "execution_count": 14,
   "metadata": {},
   "outputs": [],
   "source": [
    "data_books.drop(columns=('No. of People rated'),inplace=True)"
   ]
  },
  {
   "cell_type": "code",
   "execution_count": 15,
   "metadata": {},
   "outputs": [],
   "source": [
    "data_books['Tags']=(data_books['Main Genre'].str.lower().str.split(',') + data_books['Sub Genre'].str.lower().str.split(',')).map(lambda tags_complete: list(dict.fromkeys(tags_complete)))"
   ]
  },
  {
   "cell_type": "code",
   "execution_count": 16,
   "metadata": {},
   "outputs": [],
   "source": [
    "data_books['Tags'] = data_books['Tags'].map(lambda chain: [tag.strip() for tag in chain])"
   ]
  },
  {
   "cell_type": "code",
   "execution_count": 17,
   "metadata": {},
   "outputs": [],
   "source": [
    "data_books.drop(columns=['Sub Genre','Main Genre'], inplace=True)"
   ]
  },
  {
   "cell_type": "code",
   "execution_count": 26,
   "metadata": {},
   "outputs": [],
   "source": [
    "data_books['Tags'] =data_books['Tags'].map(lambda row: [tag_re.replace(' ','_') for tag_re in row])"
   ]
  },
  {
   "cell_type": "code",
   "execution_count": 27,
   "metadata": {},
   "outputs": [],
   "source": [
    "data_books.dropna(inplace=True)"
   ]
  },
  {
   "cell_type": "code",
   "execution_count": 28,
   "metadata": {},
   "outputs": [],
   "source": [
    "data_books.to_parquet('books_cleaned.parquet')"
   ]
  }
 ],
 "metadata": {
  "kernelspec": {
   "display_name": "Python 3",
   "language": "python",
   "name": "python3"
  },
  "language_info": {
   "codemirror_mode": {
    "name": "ipython",
    "version": 3
   },
   "file_extension": ".py",
   "mimetype": "text/x-python",
   "name": "python",
   "nbconvert_exporter": "python",
   "pygments_lexer": "ipython3",
   "version": "3.11.7"
  }
 },
 "nbformat": 4,
 "nbformat_minor": 2
}
